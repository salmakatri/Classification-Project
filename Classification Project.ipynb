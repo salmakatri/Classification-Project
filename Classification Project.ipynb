{
 "cells": [
  {
   "cell_type": "code",
   "execution_count": 69,
   "metadata": {},
   "outputs": [],
   "source": [
    "import pickle\n",
    "import numpy as np\n",
    "from sklearn.model_selection import train_test_split\n",
    "import pandas as pd\n",
    "import matplotlib.pyplot as plt\n",
    "from sklearn.linear_model import LogisticRegression\n",
    "from sklearn.metrics import log_loss\n",
    "from sklearn.tree import DecisionTreeClassifier\n",
    "from sklearn.ensemble import RandomForestClassifier\n",
    "from sklearn.metrics import precision_score, recall_score, precision_recall_curve,f1_score, fbeta_score\n",
    "from sklearn.neighbors import KNeighborsClassifier\n",
    "import xgboost as xgb\n",
    "from sklearn.metrics import accuracy_score\n",
    "from sklearn.model_selection import GridSearchCV\n",
    "%matplotlib inline"
   ]
  },
  {
   "cell_type": "code",
   "execution_count": 6,
   "metadata": {},
   "outputs": [],
   "source": [
    "with open('cleaned_data.pkl', 'rb' ) as f:\n",
    "    houses = pickle.load( f)"
   ]
  },
  {
   "cell_type": "code",
   "execution_count": 7,
   "metadata": {},
   "outputs": [
    {
     "data": {
      "text/html": [
       "<div>\n",
       "<style scoped>\n",
       "    .dataframe tbody tr th:only-of-type {\n",
       "        vertical-align: middle;\n",
       "    }\n",
       "\n",
       "    .dataframe tbody tr th {\n",
       "        vertical-align: top;\n",
       "    }\n",
       "\n",
       "    .dataframe thead th {\n",
       "        text-align: right;\n",
       "    }\n",
       "</style>\n",
       "<table border=\"1\" class=\"dataframe\">\n",
       "  <thead>\n",
       "    <tr style=\"text-align: right;\">\n",
       "      <th></th>\n",
       "      <th>Baths</th>\n",
       "      <th>Beds</th>\n",
       "      <th>Community</th>\n",
       "      <th>Favorites</th>\n",
       "      <th>Price_sqft</th>\n",
       "      <th>Redfin_Tours</th>\n",
       "      <th>Redfin_estimate</th>\n",
       "      <th>Style</th>\n",
       "      <th>Views</th>\n",
       "      <th>X-Outs</th>\n",
       "      <th>...</th>\n",
       "      <th>SqFt</th>\n",
       "      <th>Price_sqFt</th>\n",
       "      <th>age</th>\n",
       "      <th>Renovated</th>\n",
       "      <th>Recently_Renovated</th>\n",
       "      <th>date_sold</th>\n",
       "      <th>date_listed</th>\n",
       "      <th>days_on_market</th>\n",
       "      <th>neighborhood</th>\n",
       "      <th>over_under_ask</th>\n",
       "    </tr>\n",
       "  </thead>\n",
       "  <tbody>\n",
       "    <tr>\n",
       "      <th>0</th>\n",
       "      <td>1.00</td>\n",
       "      <td>1</td>\n",
       "      <td>Seattle</td>\n",
       "      <td>67</td>\n",
       "      <td>$514</td>\n",
       "      <td>4</td>\n",
       "      <td>420723</td>\n",
       "      <td>Condo/Co-op</td>\n",
       "      <td>69.0</td>\n",
       "      <td>8</td>\n",
       "      <td>...</td>\n",
       "      <td>807</td>\n",
       "      <td>526.641884</td>\n",
       "      <td>41</td>\n",
       "      <td>1</td>\n",
       "      <td>0</td>\n",
       "      <td>2021-10-29</td>\n",
       "      <td>2021-09-10</td>\n",
       "      <td>49</td>\n",
       "      <td>South</td>\n",
       "      <td>-0.023529</td>\n",
       "    </tr>\n",
       "    <tr>\n",
       "      <th>1</th>\n",
       "      <td>2.50</td>\n",
       "      <td>4</td>\n",
       "      <td>Maple Leaf</td>\n",
       "      <td>368</td>\n",
       "      <td>$612</td>\n",
       "      <td>14</td>\n",
       "      <td>1485096</td>\n",
       "      <td>Single Family Residential</td>\n",
       "      <td>394.0</td>\n",
       "      <td>21</td>\n",
       "      <td>...</td>\n",
       "      <td>2540</td>\n",
       "      <td>529.527559</td>\n",
       "      <td>5</td>\n",
       "      <td>0</td>\n",
       "      <td>0</td>\n",
       "      <td>2021-10-29</td>\n",
       "      <td>2021-09-29</td>\n",
       "      <td>30</td>\n",
       "      <td>North</td>\n",
       "      <td>0.182156</td>\n",
       "    </tr>\n",
       "    <tr>\n",
       "      <th>2</th>\n",
       "      <td>3.25</td>\n",
       "      <td>5</td>\n",
       "      <td>Queen Anne</td>\n",
       "      <td>155</td>\n",
       "      <td>$699</td>\n",
       "      <td>6</td>\n",
       "      <td>2591427</td>\n",
       "      <td>Single Family Residential</td>\n",
       "      <td>344.0</td>\n",
       "      <td>8</td>\n",
       "      <td>...</td>\n",
       "      <td>3540</td>\n",
       "      <td>705.649718</td>\n",
       "      <td>100</td>\n",
       "      <td>1</td>\n",
       "      <td>0</td>\n",
       "      <td>2021-10-29</td>\n",
       "      <td>2021-09-30</td>\n",
       "      <td>29</td>\n",
       "      <td>Central Area</td>\n",
       "      <td>0.045837</td>\n",
       "    </tr>\n",
       "    <tr>\n",
       "      <th>3</th>\n",
       "      <td>2.75</td>\n",
       "      <td>5</td>\n",
       "      <td>Leschi</td>\n",
       "      <td>107</td>\n",
       "      <td>$403</td>\n",
       "      <td>2</td>\n",
       "      <td>1004132</td>\n",
       "      <td>Multi-Family</td>\n",
       "      <td>111.0</td>\n",
       "      <td>9</td>\n",
       "      <td>...</td>\n",
       "      <td>2610</td>\n",
       "      <td>382.712644</td>\n",
       "      <td>120</td>\n",
       "      <td>0</td>\n",
       "      <td>0</td>\n",
       "      <td>2021-10-27</td>\n",
       "      <td>2021-09-24</td>\n",
       "      <td>33</td>\n",
       "      <td>Central Area</td>\n",
       "      <td>0.101233</td>\n",
       "    </tr>\n",
       "    <tr>\n",
       "      <th>4</th>\n",
       "      <td>2.00</td>\n",
       "      <td>3</td>\n",
       "      <td>Mt Baker</td>\n",
       "      <td>133</td>\n",
       "      <td>$479</td>\n",
       "      <td>7</td>\n",
       "      <td>667592</td>\n",
       "      <td>Single Family Residential</td>\n",
       "      <td>88.0</td>\n",
       "      <td>32</td>\n",
       "      <td>...</td>\n",
       "      <td>1410</td>\n",
       "      <td>474.468085</td>\n",
       "      <td>26</td>\n",
       "      <td>0</td>\n",
       "      <td>0</td>\n",
       "      <td>2021-10-27</td>\n",
       "      <td>2021-09-16</td>\n",
       "      <td>41</td>\n",
       "      <td>South</td>\n",
       "      <td>0.008969</td>\n",
       "    </tr>\n",
       "    <tr>\n",
       "      <th>...</th>\n",
       "      <td>...</td>\n",
       "      <td>...</td>\n",
       "      <td>...</td>\n",
       "      <td>...</td>\n",
       "      <td>...</td>\n",
       "      <td>...</td>\n",
       "      <td>...</td>\n",
       "      <td>...</td>\n",
       "      <td>...</td>\n",
       "      <td>...</td>\n",
       "      <td>...</td>\n",
       "      <td>...</td>\n",
       "      <td>...</td>\n",
       "      <td>...</td>\n",
       "      <td>...</td>\n",
       "      <td>...</td>\n",
       "      <td>...</td>\n",
       "      <td>...</td>\n",
       "      <td>...</td>\n",
       "      <td>...</td>\n",
       "      <td>...</td>\n",
       "    </tr>\n",
       "    <tr>\n",
       "      <th>2525</th>\n",
       "      <td>2.00</td>\n",
       "      <td>4</td>\n",
       "      <td>Madrona</td>\n",
       "      <td>46</td>\n",
       "      <td>$530</td>\n",
       "      <td>0</td>\n",
       "      <td>892042</td>\n",
       "      <td>Single Family Residential</td>\n",
       "      <td>115.0</td>\n",
       "      <td>38</td>\n",
       "      <td>...</td>\n",
       "      <td>1600</td>\n",
       "      <td>578.125000</td>\n",
       "      <td>55</td>\n",
       "      <td>0</td>\n",
       "      <td>0</td>\n",
       "      <td>2021-10-29</td>\n",
       "      <td>2021-09-08</td>\n",
       "      <td>51</td>\n",
       "      <td>Central Area</td>\n",
       "      <td>-0.082432</td>\n",
       "    </tr>\n",
       "    <tr>\n",
       "      <th>2526</th>\n",
       "      <td>1.00</td>\n",
       "      <td>5</td>\n",
       "      <td>Ballard</td>\n",
       "      <td>66</td>\n",
       "      <td>$921</td>\n",
       "      <td>0</td>\n",
       "      <td>1188252</td>\n",
       "      <td>Single Family Residential</td>\n",
       "      <td>135.0</td>\n",
       "      <td>18</td>\n",
       "      <td>...</td>\n",
       "      <td>1330</td>\n",
       "      <td>894.736842</td>\n",
       "      <td>91</td>\n",
       "      <td>0</td>\n",
       "      <td>0</td>\n",
       "      <td>2021-10-29</td>\n",
       "      <td>2021-09-04</td>\n",
       "      <td>55</td>\n",
       "      <td>Ballard</td>\n",
       "      <td>0.029412</td>\n",
       "    </tr>\n",
       "    <tr>\n",
       "      <th>2527</th>\n",
       "      <td>1.00</td>\n",
       "      <td>2</td>\n",
       "      <td>Green Lake</td>\n",
       "      <td>240</td>\n",
       "      <td>$533</td>\n",
       "      <td>6</td>\n",
       "      <td>790685</td>\n",
       "      <td>Single Family Residential</td>\n",
       "      <td>136.0</td>\n",
       "      <td>25</td>\n",
       "      <td>...</td>\n",
       "      <td>1040</td>\n",
       "      <td>673.076923</td>\n",
       "      <td>66</td>\n",
       "      <td>0</td>\n",
       "      <td>0</td>\n",
       "      <td>2021-10-29</td>\n",
       "      <td>2021-09-23</td>\n",
       "      <td>36</td>\n",
       "      <td>Fremont</td>\n",
       "      <td>0.042857</td>\n",
       "    </tr>\n",
       "    <tr>\n",
       "      <th>2528</th>\n",
       "      <td>3.25</td>\n",
       "      <td>3</td>\n",
       "      <td>Matthews Beach</td>\n",
       "      <td>174</td>\n",
       "      <td>$1,056</td>\n",
       "      <td>1</td>\n",
       "      <td>2749510</td>\n",
       "      <td>Single Family Residential</td>\n",
       "      <td>273.0</td>\n",
       "      <td>7</td>\n",
       "      <td>...</td>\n",
       "      <td>2680</td>\n",
       "      <td>1025.373134</td>\n",
       "      <td>26</td>\n",
       "      <td>0</td>\n",
       "      <td>0</td>\n",
       "      <td>2021-10-29</td>\n",
       "      <td>2021-09-27</td>\n",
       "      <td>32</td>\n",
       "      <td>South</td>\n",
       "      <td>0.029840</td>\n",
       "    </tr>\n",
       "    <tr>\n",
       "      <th>2529</th>\n",
       "      <td>2.00</td>\n",
       "      <td>3</td>\n",
       "      <td>Bryant</td>\n",
       "      <td>299</td>\n",
       "      <td>$486</td>\n",
       "      <td>12</td>\n",
       "      <td>846902</td>\n",
       "      <td>Single Family Residential</td>\n",
       "      <td>259.0</td>\n",
       "      <td>52</td>\n",
       "      <td>...</td>\n",
       "      <td>1030</td>\n",
       "      <td>703.883495</td>\n",
       "      <td>93</td>\n",
       "      <td>0</td>\n",
       "      <td>0</td>\n",
       "      <td>2021-10-29</td>\n",
       "      <td>2021-10-04</td>\n",
       "      <td>25</td>\n",
       "      <td>North</td>\n",
       "      <td>0.158621</td>\n",
       "    </tr>\n",
       "  </tbody>\n",
       "</table>\n",
       "<p>1315 rows × 25 columns</p>\n",
       "</div>"
      ],
      "text/plain": [
       "      Baths  Beds       Community  Favorites Price_sqft  Redfin_Tours  \\\n",
       "0      1.00     1         Seattle         67       $514             4   \n",
       "1      2.50     4      Maple Leaf        368       $612            14   \n",
       "2      3.25     5      Queen Anne        155       $699             6   \n",
       "3      2.75     5          Leschi        107       $403             2   \n",
       "4      2.00     3        Mt Baker        133       $479             7   \n",
       "...     ...   ...             ...        ...        ...           ...   \n",
       "2525   2.00     4         Madrona         46       $530             0   \n",
       "2526   1.00     5         Ballard         66       $921             0   \n",
       "2527   1.00     2      Green Lake        240       $533             6   \n",
       "2528   3.25     3  Matthews Beach        174     $1,056             1   \n",
       "2529   2.00     3          Bryant        299       $486            12   \n",
       "\n",
       "      Redfin_estimate                      Style  Views  X-Outs  ...  SqFt  \\\n",
       "0              420723                Condo/Co-op   69.0       8  ...   807   \n",
       "1             1485096  Single Family Residential  394.0      21  ...  2540   \n",
       "2             2591427  Single Family Residential  344.0       8  ...  3540   \n",
       "3             1004132               Multi-Family  111.0       9  ...  2610   \n",
       "4              667592  Single Family Residential   88.0      32  ...  1410   \n",
       "...               ...                        ...    ...     ...  ...   ...   \n",
       "2525           892042  Single Family Residential  115.0      38  ...  1600   \n",
       "2526          1188252  Single Family Residential  135.0      18  ...  1330   \n",
       "2527           790685  Single Family Residential  136.0      25  ...  1040   \n",
       "2528          2749510  Single Family Residential  273.0       7  ...  2680   \n",
       "2529           846902  Single Family Residential  259.0      52  ...  1030   \n",
       "\n",
       "       Price_sqFt  age  Renovated  Recently_Renovated  date_sold  date_listed  \\\n",
       "0      526.641884   41          1                   0 2021-10-29   2021-09-10   \n",
       "1      529.527559    5          0                   0 2021-10-29   2021-09-29   \n",
       "2      705.649718  100          1                   0 2021-10-29   2021-09-30   \n",
       "3      382.712644  120          0                   0 2021-10-27   2021-09-24   \n",
       "4      474.468085   26          0                   0 2021-10-27   2021-09-16   \n",
       "...           ...  ...        ...                 ...        ...          ...   \n",
       "2525   578.125000   55          0                   0 2021-10-29   2021-09-08   \n",
       "2526   894.736842   91          0                   0 2021-10-29   2021-09-04   \n",
       "2527   673.076923   66          0                   0 2021-10-29   2021-09-23   \n",
       "2528  1025.373134   26          0                   0 2021-10-29   2021-09-27   \n",
       "2529   703.883495   93          0                   0 2021-10-29   2021-10-04   \n",
       "\n",
       "      days_on_market  neighborhood  over_under_ask  \n",
       "0                 49         South       -0.023529  \n",
       "1                 30         North        0.182156  \n",
       "2                 29  Central Area        0.045837  \n",
       "3                 33  Central Area        0.101233  \n",
       "4                 41         South        0.008969  \n",
       "...              ...           ...             ...  \n",
       "2525              51  Central Area       -0.082432  \n",
       "2526              55       Ballard        0.029412  \n",
       "2527              36       Fremont        0.042857  \n",
       "2528              32         South        0.029840  \n",
       "2529              25         North        0.158621  \n",
       "\n",
       "[1315 rows x 25 columns]"
      ]
     },
     "execution_count": 7,
     "metadata": {},
     "output_type": "execute_result"
    }
   ],
   "source": [
    "houses"
   ]
  },
  {
   "cell_type": "code",
   "execution_count": 8,
   "metadata": {},
   "outputs": [],
   "source": [
    "houses['target'] = np.where(houses['over_under_ask'] > 0, 1, 0)"
   ]
  },
  {
   "cell_type": "code",
   "execution_count": 11,
   "metadata": {},
   "outputs": [
    {
     "data": {
      "text/plain": [
       "1    742\n",
       "0    573\n",
       "Name: target, dtype: int64"
      ]
     },
     "execution_count": 11,
     "metadata": {},
     "output_type": "execute_result"
    }
   ],
   "source": [
    "houses['target'].value_counts()"
   ]
  },
  {
   "cell_type": "code",
   "execution_count": 15,
   "metadata": {},
   "outputs": [
    {
     "data": {
      "text/plain": [
       "array(['South', 'North', 'Central Area', 'Ballard', 'West Seattle',\n",
       "       'Downtown', 'Fremont', 'Bellevue', 'Kirkland'], dtype=object)"
      ]
     },
     "execution_count": 15,
     "metadata": {},
     "output_type": "execute_result"
    }
   ],
   "source": [
    "houses['neighborhood'].unique()"
   ]
  },
  {
   "cell_type": "code",
   "execution_count": 91,
   "metadata": {},
   "outputs": [],
   "source": [
    "houses['Redfin_estimate_to_list'] = houses['Listed_Price'] - houses['Redfin_estimate']"
   ]
  },
  {
   "cell_type": "code",
   "execution_count": 92,
   "metadata": {},
   "outputs": [],
   "source": [
    "df = houses[['Baths', 'Beds',  'Favorites',  'Redfin_Tours', 'Style', 'Views', 'X-Outs', \n",
    "       'Listed_Price', 'avg_school_rating', 'SqFt', 'Price_sqFt', 'age', 'days_on_market', 'neighborhood','target', 'Redfin_estimate_to_list']]"
   ]
  },
  {
   "cell_type": "code",
   "execution_count": 93,
   "metadata": {},
   "outputs": [],
   "source": [
    "df = pd.get_dummies(df, drop_first = True)"
   ]
  },
  {
   "cell_type": "code",
   "execution_count": 94,
   "metadata": {},
   "outputs": [],
   "source": [
    "# Split into train, val, and test\n",
    "X, X_test, y, y_test = train_test_split(df.drop(['target'], 1), df['target'], \n",
    "                                        test_size=.2, random_state=30)"
   ]
  },
  {
   "cell_type": "code",
   "execution_count": 95,
   "metadata": {},
   "outputs": [
    {
     "name": "stdout",
     "output_type": "stream",
     "text": [
      "Precision 0.8698630136986302\n",
      "Recall 0.7888198757763976\n",
      "Accuracy 0.7984790874524715\n",
      "F1 Score 0.8273615635179155\n"
     ]
    }
   ],
   "source": [
    "#MVP: Logistic Regression\n",
    "lm = LogisticRegression()\n",
    "lm.fit(X, y)\n",
    "y_pred = lm.predict(X_test)\n",
    "print(\"Precision\", precision_score(y_test,y_pred))\n",
    "print(\"Recall\", recall_score(y_test,y_pred))\n",
    "print(\"Accuracy\", lm.score(X_test,y_test))\n",
    "print(\"F1 Score\", f1_score(y_test,y_pred))"
   ]
  },
  {
   "cell_type": "code",
   "execution_count": 96,
   "metadata": {},
   "outputs": [
    {
     "name": "stdout",
     "output_type": "stream",
     "text": [
      "Precision 0.8402366863905325\n",
      "Recall 0.8819875776397516\n",
      "Accuracy 0.7984790874524715\n",
      "F1 Score 0.8606060606060606\n"
     ]
    }
   ],
   "source": [
    "knn = KNeighborsClassifier(n_neighbors=10)\n",
    "knn.fit(X, y)\n",
    "y_pred = knn.predict(X_test)\n",
    "print(\"Precision\", precision_score(y_test,y_pred))\n",
    "print(\"Recall\", recall_score(y_test,y_pred))\n",
    "print(\"Accuracy\", lm.score(X_test,y_test))\n",
    "print(\"F1 Score\", f1_score(y_test,y_pred))"
   ]
  },
  {
   "cell_type": "code",
   "execution_count": 97,
   "metadata": {},
   "outputs": [
    {
     "name": "stdout",
     "output_type": "stream",
     "text": [
      "Precision 0.9259259259259259\n",
      "Recall 0.9316770186335404\n",
      "Accuracy 0.9125475285171103\n",
      "F1 Score 0.9287925696594428\n"
     ]
    }
   ],
   "source": [
    "rf = RandomForestClassifier(n_estimators=100)\n",
    "rf.fit(X,y)\n",
    "y_pred = rf.predict(X_test)\n",
    "print(\"Precision\", precision_score(y_test,y_pred))\n",
    "print(\"Recall\", recall_score(y_test,y_pred))\n",
    "print(\"Accuracy\", rf.score(X_test,y_test))\n",
    "print(\"F1 Score\", f1_score(y_test,y_pred))"
   ]
  },
  {
   "cell_type": "code",
   "execution_count": 98,
   "metadata": {},
   "outputs": [],
   "source": [
    "gbm = xgb.XGBClassifier( \n",
    "                       n_estimators=30000, #arbitrary large number\n",
    "                       objective = 'binary:logistic',\n",
    "                       max_depth=3,\n",
    "                       learning_rate=.1, \n",
    "                       subsample=1,\n",
    "                       min_child_weight=1,\n",
    "                       colsample_bytree=.8\n",
    "                      )\n"
   ]
  },
  {
   "cell_type": "code",
   "execution_count": 99,
   "metadata": {},
   "outputs": [
    {
     "name": "stderr",
     "output_type": "stream",
     "text": [
      "C:\\Users\\salma.katri\\AppData\\Local\\Continuum\\anaconda3\\lib\\site-packages\\xgboost\\sklearn.py:1224: UserWarning: The use of label encoder in XGBClassifier is deprecated and will be removed in a future release. To remove this warning, do the following: 1) Pass option use_label_encoder=False when constructing XGBClassifier object; and 2) Encode your labels (y) as integers starting with 0, i.e. 0, 1, 2, ..., [num_class - 1].\n",
      "  warnings.warn(label_encoder_deprecation_msg, UserWarning)\n"
     ]
    },
    {
     "name": "stdout",
     "output_type": "stream",
     "text": [
      "[00:40:24] WARNING: C:/Users/Administrator/workspace/xgboost-win64_release_1.5.1/src/learner.cc:1115: Starting in XGBoost 1.3.0, the default evaluation metric used with the objective 'binary:logistic' was changed from 'error' to 'logloss'. Explicitly set eval_metric if you'd like to restore the old behavior.\n"
     ]
    }
   ],
   "source": [
    "fit_model = gbm.fit( X, y)"
   ]
  },
  {
   "cell_type": "code",
   "execution_count": 100,
   "metadata": {},
   "outputs": [
    {
     "name": "stderr",
     "output_type": "stream",
     "text": [
      "C:\\Users\\salma.katri\\AppData\\Local\\Continuum\\anaconda3\\lib\\site-packages\\xgboost\\core.py:108: UserWarning: ntree_limit is deprecated, use `iteration_range` or model slicing instead.\n",
      "  UserWarning\n"
     ]
    }
   ],
   "source": [
    "y_pred = gbm.predict(X_test, ntree_limit=gbm.best_ntree_limit)\n",
    "#accuracy_score(y_test, gbm.predict(X_test, ntree_limit=gbm.best_ntree_limit)) "
   ]
  },
  {
   "cell_type": "code",
   "execution_count": 101,
   "metadata": {},
   "outputs": [
    {
     "name": "stdout",
     "output_type": "stream",
     "text": [
      "Precision 0.9375\n",
      "Recall 0.9316770186335404\n",
      "Accuracy 0.9201520912547528\n",
      "F1 Score 0.9345794392523364\n"
     ]
    }
   ],
   "source": [
    "print(\"Precision\", precision_score(y_test,y_pred))\n",
    "print(\"Recall\", recall_score(y_test,y_pred))\n",
    "print(\"Accuracy\", gbm.score(X_test,y_test))\n",
    "print(\"F1 Score\", f1_score(y_test,y_pred))"
   ]
  },
  {
   "cell_type": "code",
   "execution_count": 111,
   "metadata": {},
   "outputs": [
    {
     "name": "stdout",
     "output_type": "stream",
     "text": [
      "Precision 0.9161676646706587\n",
      "Recall 0.9503105590062112\n",
      "Accuracy 0.9503105590062112\n",
      "F1 Score 0.9329268292682927\n"
     ]
    }
   ],
   "source": [
    "rfc = RandomForestClassifier(random_state=42)\n",
    "\n",
    "param_grid = { \n",
    "    'n_estimators': [100, 200, 300, 400, 500],\n",
    "    'max_features': ['auto', 'sqrt', 'log2'],\n",
    "    'max_depth' : [4,5,6,7,8, 10],\n",
    "    'criterion' :['gini', 'entropy']\n",
    "}\n",
    "\n",
    "CV_rfc = GridSearchCV(estimator=rfc, param_grid=param_grid, cv= 5, scoring = 'recall')\n",
    "CV_rfc.fit(X, y)\n",
    "CV_rfc.best_params_\n",
    "y_pred = CV_rfc.predict(X_test)\n",
    "print(\"Precision\", precision_score(y_test,y_pred))\n",
    "print(\"Recall\", recall_score(y_test,y_pred))\n",
    "print(\"Accuracy\", CV_rfc.score(X_test,y_test))\n",
    "print(\"F1 Score\", f1_score(y_test,y_pred))"
   ]
  },
  {
   "cell_type": "code",
   "execution_count": 103,
   "metadata": {},
   "outputs": [
    {
     "data": {
      "text/plain": [
       "{'criterion': 'entropy',\n",
       " 'max_depth': 10,\n",
       " 'max_features': 'auto',\n",
       " 'n_estimators': 200}"
      ]
     },
     "execution_count": 103,
     "metadata": {},
     "output_type": "execute_result"
    }
   ],
   "source": [
    "CV_rfc.best_params_"
   ]
  },
  {
   "cell_type": "code",
   "execution_count": 104,
   "metadata": {},
   "outputs": [
    {
     "name": "stdout",
     "output_type": "stream",
     "text": [
      "Precision 0.9166666666666666\n",
      "Recall 0.9565217391304348\n",
      "Accuracy 0.9201520912547528\n",
      "F1 Score 0.9361702127659574\n"
     ]
    }
   ],
   "source": [
    "rf = RandomForestClassifier(n_estimators=200, max_depth = 10, max_features = 'auto', criterion = 'entropy')\n",
    "rf.fit(X,y)\n",
    "y_pred = rf.predict(X_test)\n",
    "print(\"Precision\", precision_score(y_test,y_pred))\n",
    "print(\"Recall\", recall_score(y_test,y_pred))\n",
    "print(\"Accuracy\", rf.score(X_test,y_test))\n",
    "print(\"F1 Score\", f1_score(y_test,y_pred))"
   ]
  },
  {
   "cell_type": "code",
   "execution_count": 108,
   "metadata": {},
   "outputs": [
    {
     "data": {
      "image/png": "[encoded data removed]",
      "text/plain": [
       "<Figure size 900x800 with 1 Axes>"
      ]
     },
     "metadata": {
      "needs_background": "light"
     },
     "output_type": "display_data"
    }
   ],
   "source": [
    "from matplotlib.pyplot import figure\n",
    "\n",
    "figure(figsize=(9, 8), dpi=100)\n",
    "\n",
    "features = X.columns\n",
    "importances = rf.feature_importances_\n",
    "indices = np.argsort(importances)\n",
    "\n",
    "plt.title('Feature Importances')\n",
    "plt.barh(range(len(indices)-8), importances[indices][8:], color='b', align='center')\n",
    "plt.yticks(range(len(indices)-8), [features[i] for i in indices[8:]])\n",
    "plt.xlabel('Relative Importance')\n",
    "plt.show()"
   ]
  },
  {
   "cell_type": "code",
   "execution_count": 110,
   "metadata": {},
   "outputs": [
    {
     "data": {
      "text/plain": [
       "(array([0.01918219, 0.        , 0.        , 0.        , 0.        ,\n",
       "        0.        , 0.        , 0.        , 0.        , 0.03836438,\n",
       "        0.15345753, 0.4411904 , 0.63301232, 1.45784655, 3.39524788,\n",
       "        9.1307231 , 3.22260815, 1.64966846, 1.61130408, 1.07420272,\n",
       "        0.93992738, 0.74810546, 0.21100411, 0.36446164, 0.03836438,\n",
       "        0.01918219, 0.01918219, 0.03836438, 0.        , 0.01918219]),\n",
       " array([-0.59770115, -0.55805728, -0.51841341, -0.47876954, -0.43912568,\n",
       "        -0.39948181, -0.35983794, -0.32019407, -0.2805502 , -0.24090633,\n",
       "        -0.20126246, -0.1616186 , -0.12197473, -0.08233086, -0.04268699,\n",
       "        -0.00304312,  0.03660075,  0.07624462,  0.11588848,  0.15553235,\n",
       "         0.19517622,  0.23482009,  0.27446396,  0.31410783,  0.3537517 ,\n",
       "         0.39339556,  0.43303943,  0.4726833 ,  0.51232717,  0.55197104,\n",
       "         0.59161491]),\n",
       " <a list of 30 Patch objects>)"
      ]
     },
     "execution_count": 110,
     "metadata": {},
     "output_type": "execute_result"
    },
    {
     "data": {
      "image/png": "[encoded data removed]",
      "text/plain": [
       "<Figure size 432x288 with 1 Axes>"
      ]
     },
     "metadata": {
      "needs_background": "light"
     },
     "output_type": "display_data"
    }
   ],
   "source": [
    "plt.hist(houses['over_under_ask'], density=True, bins=30)"
   ]
  }
 ],
 "metadata": {
  "kernelspec": {
   "display_name": "Python 3",
   "language": "python",
   "name": "python3"
  },
  "language_info": {
   "codemirror_mode": {
    "name": "ipython",
    "version": 3
   },
   "file_extension": ".py",
   "mimetype": "text/x-python",
   "name": "python",
   "nbconvert_exporter": "python",
   "pygments_lexer": "ipython3",
   "version": "3.7.0"
  }
 },
 "nbformat": 4,
 "nbformat_minor": 2
}
