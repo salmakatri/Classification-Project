{
 "cells": [
  {
   "cell_type": "code",
   "execution_count": 177,
   "metadata": {},
   "outputs": [],
   "source": [
    "import pickle\n",
    "import statistics\n",
    "import numpy as np\n",
    "import random\n",
    "from sklearn.linear_model import LinearRegression\n",
    "from sklearn.model_selection import train_test_split\n",
    "import seaborn as sns\n",
    "import pandas as pd\n",
    "import matplotlib.pyplot as plt\n",
    "import datetime\n",
    "import statsmodels.api as sm\n",
    "%matplotlib inline"
   ]
  },
  {
   "cell_type": "code",
   "execution_count": 178,
   "metadata": {},
   "outputs": [],
   "source": [
    "with open('datalist.pkl', 'rb' ) as f:\n",
    "    l = pickle.load(f)"
   ]
  },
  {
   "cell_type": "code",
   "execution_count": 179,
   "metadata": {},
   "outputs": [],
   "source": [
    "with open('add_data.pkl', 'rb' ) as f:\n",
    "    add = pickle.load(f)"
   ]
  },
  {
   "cell_type": "code",
   "execution_count": 180,
   "metadata": {},
   "outputs": [],
   "source": [
    "data =  l + add"
   ]
  },
  {
   "cell_type": "code",
   "execution_count": 181,
   "metadata": {},
   "outputs": [],
   "source": [
    "df = pd.DataFrame(data)"
   ]
  },
  {
   "cell_type": "code",
   "execution_count": 182,
   "metadata": {},
   "outputs": [
    {
     "data": {
      "text/plain": [
       "Index(['Baths', 'Beds', 'Community', 'County', 'Favorite', 'Favorites',\n",
       "       'Lot Size', 'Price_sqft', 'Redfin Tour', 'Redfin Tours',\n",
       "       'Redfin_estimate', 'Sq. Ft.', 'Stories', 'Style', 'View', 'Views',\n",
       "       'X-Out', 'X-Outs', 'Year Built', 'Year Renovated', 'all-time-Favorite',\n",
       "       'all-time-Favorites', 'all-time-Redfin Tour', 'all-time-Redfin Tours',\n",
       "       'all-time-X-Out', 'all-time-X-Outs', 'listed_date', 'listed_price',\n",
       "       'school_ratings', 'sold_date', 'sold_price'],\n",
       "      dtype='object')"
      ]
     },
     "execution_count": 182,
     "metadata": {},
     "output_type": "execute_result"
    }
   ],
   "source": [
    "df.columns"
   ]
  },
  {
   "cell_type": "code",
   "execution_count": 138,
   "metadata": {},
   "outputs": [],
   "source": [
    "#convert school ratings to an average\n",
    "def get_avg_school_rating(row):\n",
    "    avg_rating = statistics.mean(list(map(int,row['school_ratings'] )))\n",
    "    return avg_rating"
   ]
  },
  {
   "cell_type": "code",
   "execution_count": 139,
   "metadata": {},
   "outputs": [],
   "source": [
    "df['avg_school_rating'] = df.apply(get_avg_school_rating, axis = 1)"
   ]
  },
  {
   "cell_type": "code",
   "execution_count": 140,
   "metadata": {},
   "outputs": [],
   "source": [
    "df = df.drop('school_ratings',1)"
   ]
  },
  {
   "cell_type": "code",
   "execution_count": 142,
   "metadata": {},
   "outputs": [],
   "source": [
    "df = df.drop_duplicates()"
   ]
  },
  {
   "cell_type": "code",
   "execution_count": 143,
   "metadata": {},
   "outputs": [],
   "source": [
    "df['Favorites'] = df['Favorites'].fillna(value = 1)\n",
    "df = df.drop('Favorite', 1)"
   ]
  },
  {
   "cell_type": "code",
   "execution_count": 144,
   "metadata": {},
   "outputs": [],
   "source": [
    "df['Redfin Tours'] = df['Redfin Tours'].fillna(value = 1)\n",
    "df = df.drop('Redfin Tour', 1)"
   ]
  },
  {
   "cell_type": "code",
   "execution_count": 145,
   "metadata": {},
   "outputs": [],
   "source": [
    "df['Views'] = df['Views'].fillna(value = 1)\n",
    "df = df.drop('View', 1)"
   ]
  },
  {
   "cell_type": "code",
   "execution_count": 146,
   "metadata": {},
   "outputs": [],
   "source": [
    "df['X-Outs'] = df['X-Outs'].fillna(value = 1)\n",
    "df = df.drop('X-Out', 1)"
   ]
  },
  {
   "cell_type": "code",
   "execution_count": 147,
   "metadata": {},
   "outputs": [],
   "source": [
    "houses = df[df['listed_price'].isnull() == False]"
   ]
  },
  {
   "cell_type": "code",
   "execution_count": 148,
   "metadata": {},
   "outputs": [],
   "source": [
    "houses = houses[['Baths', 'Beds', 'Community', 'County', 'Favorites', 'Lot Size','Price_sqft', 'Redfin Tours', \n",
    "                 'Redfin_estimate', 'Sq. Ft.', 'Stories',\n",
    "                 'Style', 'Views', 'X-Outs', 'Year Built', 'Year Renovated','listed_date', \n",
    "                 'listed_price', 'sold_date', 'sold_price','avg_school_rating']]"
   ]
  },
  {
   "cell_type": "code",
   "execution_count": 149,
   "metadata": {},
   "outputs": [],
   "source": [
    "houses = houses[houses.Beds != '—']\n",
    "houses = houses[houses.Baths != '—']\n",
    "houses = houses.drop(\"County\", 1)\n",
    "houses = houses.drop('Lot Size', axis = 1)\n",
    "houses = houses.drop('Stories', axis = 1)"
   ]
  },
  {
   "cell_type": "code",
   "execution_count": 150,
   "metadata": {},
   "outputs": [],
   "source": [
    "def clean_sold_price(row):\n",
    "    price = row['sold_price'].split()\n",
    "    return price[0]\n",
    "\n",
    "houses['cleaned_sold_price'] = houses.apply(clean_sold_price, axis = 1)\n",
    "houses = houses.drop('sold_price',1)"
   ]
  },
  {
   "cell_type": "code",
   "execution_count": 151,
   "metadata": {},
   "outputs": [],
   "source": [
    "houses.columns = ['Baths', 'Beds', 'Community', 'Favorites', 'Price_sqft', 'Redfin_Tours',\n",
    "       'Redfin_estimate', 'SqFt.', 'Style', 'Views', 'X-Outs', 'Year_Built',\n",
    "       'Year_Renovated', 'listed_date', 'listed_price', 'sold_date',\n",
    "       'avg_school_rating', 'cleaned_sold_price']"
   ]
  },
  {
   "cell_type": "code",
   "execution_count": 152,
   "metadata": {},
   "outputs": [],
   "source": [
    "houses['Baths'] = pd.to_numeric(houses['Baths'])\n",
    "houses['Beds'] = pd.to_numeric(houses['Beds'])\n",
    "houses['Favorites'] = pd.to_numeric(houses['Favorites'])\n",
    "houses['Redfin_Tours'] = pd.to_numeric(houses['Redfin_Tours'])\n",
    "houses['Views'] = houses['Views'].str.replace(',' , \"\")\n",
    "houses['Views'] = pd.to_numeric(houses['Views'])\n",
    "houses['X-Outs'] = pd.to_numeric(houses['X-Outs'])\n",
    "#houses = houses2[houses2.Redfin_estimate != 'NA']\n",
    "houses['Year_Built'] = houses['Year_Built'].astype(int)"
   ]
  },
  {
   "cell_type": "code",
   "execution_count": 153,
   "metadata": {},
   "outputs": [],
   "source": [
    "def get_numeric_price(row):\n",
    "    price = row['cleaned_sold_price'].replace(',', \"\")\n",
    "    price = price.replace(\"$\", \"\")\n",
    "    return price\n",
    "houses['sold_price'] = houses.apply(get_numeric_price, axis=1)\n",
    "houses['sold_price'] = pd.to_numeric(houses['sold_price'])\n",
    "houses = houses.drop('cleaned_sold_price', 1)"
   ]
  },
  {
   "cell_type": "code",
   "execution_count": 154,
   "metadata": {},
   "outputs": [],
   "source": [
    "def get_numeric_price(row):\n",
    "    price = row['Listed_Price'].replace(',', \"\")\n",
    "    price = price.replace(\"$\", \"\")\n",
    "    return price\n",
    "houses.columns = ['Baths', 'Beds', 'Community', 'Favorites', 'Price_sqft', 'Redfin_Tours',\n",
    "       'Redfin_estimate', 'SqFt.', 'Style', 'Views', 'X-Outs', 'Year_Built',\n",
    "       'Year_Renovated', 'listed_date', 'Listed_Price', 'sold_date',\n",
    "       'avg_school_rating', 'sold_price']\n",
    "houses = houses[houses.Listed_Price != '* ']\n",
    "houses['Listed_Price'] = houses.apply(get_numeric_price, axis=1)\n",
    "houses['Listed_Price'] = pd.to_numeric(houses['Listed_Price'])"
   ]
  },
  {
   "cell_type": "code",
   "execution_count": 155,
   "metadata": {},
   "outputs": [],
   "source": [
    "def get_numeric_sqft(row):\n",
    "    price = row['SqFt.'].replace(',', \"\")\n",
    "    price = price.replace(\"$\", \"\")\n",
    "    return price\n",
    "houses['SqFt'] = houses.apply(get_numeric_sqft, axis=1)\n",
    "houses['SqFt'] = pd.to_numeric(houses['SqFt'])\n",
    "houses = houses.drop('SqFt.', 1)"
   ]
  },
  {
   "cell_type": "code",
   "execution_count": 156,
   "metadata": {},
   "outputs": [],
   "source": [
    "houses['Price_sqFt'] = houses['Listed_Price']/houses['SqFt']"
   ]
  },
  {
   "cell_type": "code",
   "execution_count": 157,
   "metadata": {},
   "outputs": [],
   "source": [
    "#create age from Year Built\n",
    "houses['age'] = 2021 - houses['Year_Built'] \n",
    "\n",
    "#create variables from Year Renovated\n",
    "houses['Renovated'] = np.where( houses['Year_Renovated'] == '—', 0, 1)"
   ]
  },
  {
   "cell_type": "code",
   "execution_count": 158,
   "metadata": {},
   "outputs": [],
   "source": [
    "#create variables from year renovated\n",
    "def recently_renovated(row):\n",
    "    if row['Year_Renovated'] == '—':\n",
    "        return 0\n",
    "    elif int(row['Year_Renovated']) > 2010:\n",
    "        return 1\n",
    "    else:\n",
    "        return 0\n",
    "\n",
    "houses['Recently_Renovated'] = houses.apply(recently_renovated, axis=1)"
   ]
  },
  {
   "cell_type": "code",
   "execution_count": 159,
   "metadata": {},
   "outputs": [],
   "source": [
    "#transform listed date and sold date to dates format \n",
    "def get_date(row):\n",
    "    d = {'Jan': 1, 'Feb': 2, 'Mar': 3, 'Apr': 4, 'May': 5, 'Jun': 6, \"Jul\": 7, \"Aug\": 8, \"Sep\":9, \"Oct\":10, \"Nov\": 11, \"Dec\": 12}\n",
    "    month = d[row['sold_date'].split()[0]]  \n",
    "    day = int(row['sold_date'].split()[1][:-1])\n",
    "    year = int(row['sold_date'].split()[2])\n",
    "    return datetime.datetime(year, month, day)\n",
    "houses['date_sold'] = houses.apply(get_date, axis =1)\n",
    "houses = houses.drop('sold_date', 1)"
   ]
  },
  {
   "cell_type": "code",
   "execution_count": 160,
   "metadata": {},
   "outputs": [],
   "source": [
    "#transform listed date and sold date to dates format \n",
    "def get_date(row):\n",
    "    d = {'Jan': 1, 'Feb': 2, 'Mar': 3, 'Apr': 4, 'May': 5, 'Jun': 6, \"Jul\": 7, \"Aug\": 8, \"Sep\":9, \"Oct\":10, \"Nov\": 11, \"Dec\": 12}\n",
    "    month = d[row['listed_date'].split()[0]]  \n",
    "    day = int(row['listed_date'].split()[1][:-1])\n",
    "    year = int(row['listed_date'].split()[2])\n",
    "    return datetime.datetime(year, month, day)\n",
    "houses['date_listed'] = houses.apply(get_date, axis =1)\n",
    "houses = houses.drop('listed_date', 1)"
   ]
  },
  {
   "cell_type": "code",
   "execution_count": 161,
   "metadata": {},
   "outputs": [],
   "source": [
    "#create variable days on the market\n",
    "houses['days_on_market'] = houses['date_sold'] - houses['date_listed']\n",
    "houses['days_on_market'] = houses['days_on_market'].dt.days"
   ]
  },
  {
   "cell_type": "code",
   "execution_count": 162,
   "metadata": {},
   "outputs": [],
   "source": [
    "#create neighborhood groups,\n",
    "d = pd.DataFrame(add)\n",
    "neighborhoods = list(d.Community)\n",
    "bellevue = neighborhoods[:315]\n",
    "kirkland = neighborhoods[315:652]\n",
    "seattle = neighborhoods[652:]\n",
    "d = pd.DataFrame(l)\n",
    "s = list(d.Community)\n",
    "seattle += s\n",
    "def get_community(row, bellevue, kirkland):\n",
    "    community = {'North': ['Maple Leaf',  'Greenwood', 'Bitter Lake', 'View Ridge',  'Ravenna','Northgate','Shoreline',  'North Seattle',\n",
    "                       'Broadview', 'Bryant','Cedar Park', 'Crown Hill', 'Haller Lake','Hawthorne Hills',\n",
    "                     'Inverness', 'Lake City','Lake Forest Park','Laurelhurst', 'Licton Springs', 'Meadowbrook',\n",
    "                     'North Beach','North College Park','Olympic Hills','Parkwood','Pinehurst','Roosevelt','Sand Point',\n",
    "                    'Victory Heights', 'View Ridge','Wedgwood', 'Windermere'],\n",
    "           'South': ['Mt Baker','White Center',  'Beacon Hill', 'Top Hat','Columbia City', 'Brighton','Rainier Beach', 'Judkins',\n",
    "          'Seward Park', 'Rainier Valley', 'Arbor Heights','Arroyo', 'Boulevard Park','Brighton',  'Delridge', 'Dunlap', \n",
    "          'Fauntleroy',  'Gatewood','Genesee','Glen Acres', 'High Point','Highland Park','Hillman City', 'Lakeridge','Lakewood',\n",
    "          'Lincoln Park','Matthews Beach','Marine View','Mt Baker',  'Puget Ridge','Rainier Beach','Rainier Valley', 'Riverton',\n",
    "          'Seward Park','South Park','Top Hat', 'Upper Rainier Beach','Westwood','Westwood Village', 'Seattle'],\n",
    "           'Central Area': ['Leschi', 'First Hill','Capitol Hill', 'Central Area','Madrona','Madison Valley', 'Broadway', \n",
    "                 'Madison Park','Montlake', 'Queen Anne', 'Eastlake','Westlake','Queen Anne'],\n",
    "           'Ballard': ['Ballard',   'Loyal Heights', 'Sunset Hill','West Woodland', 'Whittier', 'Magnolia'],\n",
    "           'West Seattle': ['Alaska Junction', 'West Seattle','Alki', 'Belvidere', 'Admiral','Fairmount', 'Junction', 'North Admiral','Seaview'],\n",
    "           'Downtown':  ['Downtown', 'Lake Union','South Lake Union','Denny Triangle', 'Belltown', 'Downtown Seattle',  'Cascade',  'Denny Regrade', 'International District'],\n",
    "           'Fremont' : [ 'Wallingford', 'Fremont',  'Green Lake','Phinney Ridge', 'Northlake',  'University District', 'Woodland Park','Magnolia-Queen Anne'],\n",
    "                'Bellevue': bellevue, 'Kirkland': kirkland }\n",
    "    for key, value in community.items():\n",
    "        if row['Community'] in value:\n",
    "            return key \n",
    "        \n",
    "houses['neighborhood'] = houses.apply(get_community, args= (bellevue, kirkland), axis=1)       "
   ]
  },
  {
   "cell_type": "code",
   "execution_count": 163,
   "metadata": {},
   "outputs": [],
   "source": [
    "#create style groups\n",
    "houses['Style'] = houses['Style'].map({'Condo/Co-op': 'Condo/Co-op', 'Single Family Residential': 'Single Family Residential',\n",
    "                                       'Multi-Family (2-4 Unit)': 'Multi-Family','Townhouse': 'Townhouse', 'Other': 'Multi-Family', \n",
    "                                       'Multi-Family (5+ Unit)': 'Multi-Family' })"
   ]
  },
  {
   "cell_type": "code",
   "execution_count": 164,
   "metadata": {},
   "outputs": [],
   "source": [
    "houses['Views'] = houses['Views'].fillna(value = 1)"
   ]
  },
  {
   "cell_type": "code",
   "execution_count": 165,
   "metadata": {},
   "outputs": [],
   "source": [
    "#get numeric redfin estimate\n",
    "houses = houses[houses.Redfin_estimate != 'NA']\n",
    "def get_numeric_price(row):\n",
    "    price = row['Redfin_estimate'].replace(',', \"\")\n",
    "    price = price.replace(\"$\", \"\")\n",
    "    return price\n",
    "\n",
    "houses['Redfin_estimate'] = houses.apply(get_numeric_price, axis=1)\n",
    "houses['Redfin_estimate'] = pd.to_numeric(houses['Redfin_estimate'])"
   ]
  },
  {
   "cell_type": "code",
   "execution_count": 166,
   "metadata": {},
   "outputs": [],
   "source": [
    "#create variable of interest\n",
    "houses['over_under_ask'] = (houses['sold_price'] - houses['Listed_Price'])/houses['Listed_Price']"
   ]
  },
  {
   "cell_type": "code",
   "execution_count": 167,
   "metadata": {},
   "outputs": [
    {
     "name": "stdout",
     "output_type": "stream",
     "text": [
      "<class 'pandas.core.frame.DataFrame'>\n",
      "Int64Index: 1315 entries, 0 to 2529\n",
      "Data columns (total 25 columns):\n",
      "Baths                 1315 non-null float64\n",
      "Beds                  1315 non-null int64\n",
      "Community             1315 non-null object\n",
      "Favorites             1315 non-null int64\n",
      "Price_sqft            1315 non-null object\n",
      "Redfin_Tours          1315 non-null int64\n",
      "Redfin_estimate       1315 non-null int64\n",
      "Style                 1315 non-null object\n",
      "Views                 1315 non-null float64\n",
      "X-Outs                1315 non-null int64\n",
      "Year_Built            1315 non-null int32\n",
      "Year_Renovated        1315 non-null object\n",
      "Listed_Price          1315 non-null int64\n",
      "avg_school_rating     1315 non-null float64\n",
      "sold_price            1315 non-null int64\n",
      "SqFt                  1315 non-null int64\n",
      "Price_sqFt            1315 non-null float64\n",
      "age                   1315 non-null int32\n",
      "Renovated             1315 non-null int32\n",
      "Recently_Renovated    1315 non-null int64\n",
      "date_sold             1315 non-null datetime64[ns]\n",
      "date_listed           1315 non-null datetime64[ns]\n",
      "days_on_market        1315 non-null int64\n",
      "neighborhood          1315 non-null object\n",
      "over_under_ask        1315 non-null float64\n",
      "dtypes: datetime64[ns](2), float64(5), int32(3), int64(10), object(5)\n",
      "memory usage: 251.7+ KB\n"
     ]
    }
   ],
   "source": [
    "houses.info()"
   ]
  },
  {
   "cell_type": "code",
   "execution_count": 168,
   "metadata": {},
   "outputs": [],
   "source": [
    "#save cleaned data ready for analysis\n",
    "with open('cleaned_data.pkl', 'wb' ) as f:\n",
    "    pickle.dump(houses, f)"
   ]
  }
 ],
 "metadata": {
  "kernelspec": {
   "display_name": "Python 3",
   "language": "python",
   "name": "python3"
  },
  "language_info": {
   "codemirror_mode": {
    "name": "ipython",
    "version": 3
   },
   "file_extension": ".py",
   "mimetype": "text/x-python",
   "name": "python",
   "nbconvert_exporter": "python",
   "pygments_lexer": "ipython3",
   "version": "3.7.0"
  }
 },
 "nbformat": 4,
 "nbformat_minor": 2
}
